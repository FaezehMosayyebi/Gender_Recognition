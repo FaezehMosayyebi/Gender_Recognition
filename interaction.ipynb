{
  "nbformat": 4,
  "nbformat_minor": 0,
  "metadata": {
    "colab": {
      "provenance": []
    },
    "kernelspec": {
      "name": "python3",
      "display_name": "Python 3"
    },
    "language_info": {
      "name": "python"
    }
  },
  "cells": [
    {
      "cell_type": "code",
      "execution_count": null,
      "metadata": {
        "id": "7Amf88OMgzZ2"
      },
      "outputs": [],
      "source": [
        "import ipywidgets as widgets\n",
        "import sys"
      ]
    },
    {
      "cell_type": "code",
      "source": [
        "# @title If your dataset is zip, please unpack it.\n",
        "import shutil\n",
        "zip_path = '' # @param {type:\"string\"}\n",
        "shutil.unpack_archive(zip_path)"
      ],
      "metadata": {
        "id": "FA4ILS-DD0C7",
        "cellView": "form"
      },
      "execution_count": null,
      "outputs": []
    },
    {
      "cell_type": "code",
      "source": [
        "# @title Setup Network\n",
        "\n",
        "from main import pipeline\n",
        "\n",
        "# @markdown ##If you have a trained network, enter its path. If you want to use other properties or you want to train a network based on your own dataset, leave the box empty.\n",
        "model_direction = ''           # @param {type:\"string\"}\n",
        "if model_direction == '':\n",
        "  model_direction = None\n",
        "pip = pipeline(model_direction)\n",
        "\n",
        "# @markdown <br>\n",
        "\n",
        "# @markdown ##To have your network, check the following box and set the configuration to train a network based on your dataset.\n",
        "train_model = False            # @param {type:\"boolean\"}\n",
        "train_dataset_path = ''        # @param {type:\"string\"}\n",
        "validation_dataset_path = ''   # @param {type:\"string\"}\n",
        "\n",
        "data_dir = {'training': train_dataset_path,\n",
        "            'validation': validation_dataset_path}\n",
        "for key , value in data_dir.items():\n",
        "      if value=='':\n",
        "         data_dir[key] = None\n",
        "\n",
        "save_to = ''                   # @param {type:\"string\"}\n",
        "if save_to == '':\n",
        "  save_to = None\n",
        "batch_size = 0                 # @param {type:\"integer\"}\n",
        "patch_size = (0, 0)            # @param {type:\"raw\"}\n",
        "# @markdown Note: For EfficientNet patch_size should be (240,240).\n",
        "\n",
        "learning_rate = 0.001          # @param {type:\"slider\", min:0, max:0.1, step:0.0001}\n",
        "\n",
        "# @markdown ###We have two types of models: one for small datasets and the other for massive datasets. Please select one based on your dataset.\n",
        "model_type = 'Small'           # @param ['Small', 'Large']\n",
        "training_epochs_number = 0     # @param {type:\"integer\"}\n",
        "\n",
        "# @markdown ### Do you want to fine tune the model?\n",
        "tune_from = 0                  # @param {type:\"slider\", min:0, max:339, step:1}\n",
        "tuning_epochs_number = 0       # @param {type:\"integer\"}\n",
        "\n",
        "# @markdown ### Do you want to Augment your data?\n",
        "augmentation = True            # @param {type:\"boolean\"}\n",
        "rotation_factor = 0            # @param {type:\"slider\", min:-6.28, max:6.28, step:0.1}\n",
        "translation_height_factor = 0  # @param {type:\"slider\", min:-1, max:1, step:0.1}\n",
        "translation_width_factor = 0   # @param {type:\"slider\", min:-1, max:1, step:0.1}\n",
        "flip = \"horizontal\"            # @param [\"horizontal\", \"vertical\", \"horizontal_and_vertical\"]\n",
        "upper_contrast_factor = 0      # @param {type:\"slider\", min:0, max:1, step:0.1}\n",
        "lower_contrast_factor = 0      # @param {type:\"slider\", min:0, max:1, step:0.1}\n",
        "aug_config={'rotation_factor' : rotation_factor,\n",
        "            'translation_factor' : (translation_height_factor, translation_width_factor),\n",
        "            'flip': flip,\n",
        "            'contrast_factor' : (upper_contrast_factor, lower_contrast_factor),\n",
        "}\n",
        "\n",
        "if train_model:\n",
        "  pip.train(data_dir, model_type, batch_size, patch_size, training_epochs_number, tuning_epochs_number, tune_from, learning_rate, augmentation, aug_config, save_to)\n"
      ],
      "metadata": {
        "id": "acfe_dOwCA3S",
        "cellView": "form"
      },
      "execution_count": null,
      "outputs": []
    },
    {
      "cell_type": "code",
      "source": [
        "# @title Utilize Network\n",
        "\n",
        "image_direction = '' # @param {type:\"string\"}\n",
        "save_output = True   # @param {type:\"boolean\"}\n",
        "save_to = ''         # @param {type:\"string\"}\n",
        "if save_to == '':\n",
        "  save_to = None\n",
        "\n",
        "pip.run_model(image_direction, save_output, save_to)"
      ],
      "metadata": {
        "cellView": "form",
        "id": "6wUbS0HMh8eq"
      },
      "execution_count": null,
      "outputs": []
    },
    {
      "cell_type": "code",
      "source": [
        "# @title Model Evaluation\n",
        "\n",
        "test_dataset_directory = '' # @param {type:\"string\"}\n",
        "patch_size = (240, 240)     # @param {type:\"raw\"}\n",
        "# @markdown Note: For EfficientNet patch_size should be (240,240).\n",
        "\n",
        "# @markdown ###Do you want to see the confusion matrix?:\n",
        "confusion_matrix =False     # @param {type:\"boolean\"}\n",
        "\n",
        "pip.evaluate_model(test_dataset_directory, batch_size, patch_size, confusion_matrix)"
      ],
      "metadata": {
        "id": "HiQmKid9BZ8a",
        "cellView": "form"
      },
      "execution_count": null,
      "outputs": []
    },
    {
      "cell_type": "code",
      "source": [
        "#@title Face Detector\n",
        "\n",
        "image_path = ''             #@param{type:\"string\"}\n",
        "#@markdown Note: Insert the source directory path in the above box to flow your data from a directory.\n",
        "\n",
        "#@markdown ###Do you want to save the results?\n",
        "save_output = False         #@param {type:\"boolean\"}\n",
        "\n",
        "flow_from_directory = False #@param {type:\"boolean\"}\n",
        "save_to = ''                #@param {type:\"string\"}\n",
        "#@markdown Note: Insert the destination directory path in the above box to flow your data from a directory.\n",
        "\n",
        "#@markdown Set a prefix to save your dataset with.\n",
        "prefix = ''                 #@param{type:\"string\"}\n",
        "\n",
        "pip.detect_faces(image_path, save_output, save_to, flow_from_directory, prefix)"
      ],
      "metadata": {
        "id": "61f7RTN-hnLc",
        "cellView": "form"
      },
      "execution_count": null,
      "outputs": []
    },
    {
      "cell_type": "code",
      "source": [
        "#@title Face Landmarks Detection\n",
        "\n",
        "landmark_number = \"5\"       #@param [5,68]\n",
        "image_path = ''             #@param{type:\"string\"}\n",
        "#@markdown Note: Insert the source directory path in the above box to flow your data from a directory.\n",
        "\n",
        "#@markdown #Do you want to save the results?\n",
        "save_output = False         #@param {type:\"boolean\"}\n",
        "\n",
        "flow_from_directory = False #@param {type:\"boolean\"}\n",
        "\n",
        "save_to = ''                #@param {type:\"string\"}\n",
        "#@markdown Note: Insert the destination directory path in the above box to flow your data from a directory.\n",
        "\n",
        "#@markdown If flow from directory insert your preferred prefix.\n",
        "prefix = ''                 #@param{type:\"string\"}\n",
        "\n",
        "pip.detect_face_landmarks(image_path, int(landmark_number), save_output, save_to, flow_from_directory, prefix)"
      ],
      "metadata": {
        "id": "oV-wRNQGo0E9",
        "cellView": "form"
      },
      "execution_count": null,
      "outputs": []
    },
    {
      "cell_type": "code",
      "source": [
        "#@title Face Masking\n",
        "\n",
        "#@markdown **Poisson image editing thresholds**\n",
        "low_threshold = 100         #@param {type:\"slider\", min:0, max:100, step:1}\n",
        "high_threshold = 1000       #@param {type:\"slider\", min:100, max:10000, step:50}\n",
        "#@markdown **The size of the Sobel kernel to be used**\n",
        "kernel_size = 36            #@param {type:\"slider\", min:3, max:100, step:1}\n",
        "\n",
        "image_path = ''             #@param{type:\"string\"}\n",
        "#@markdown Note: Insert the source directory path in the above box to flow your data from a directory.\n",
        "\n",
        "#@markdown #Do you want to save the results?\n",
        "save_output = False         #@param {type:\"boolean\"}\n",
        "flow_from_directory = False #@param {type:\"boolean\"}\n",
        "\n",
        "destination_directory = ''  #@param {type:\"string\"}\n",
        "#@markdown Note: Insert the destination directory path in the above box to flow your data from a directory.\n",
        "\n",
        "#@markdown If flow from directory insert your preferred prefix.\n",
        "prefix = ''                 #@param{type:\"string\"}\n",
        "\n",
        "pip.generate_masked_faces(low_threshold, high_threshold, kernel_size, image_path, save_to_dir, destination_directory, flow_from_directory, prefix)"
      ],
      "metadata": {
        "id": "OffAp6H0Rrpn",
        "cellView": "form"
      },
      "execution_count": null,
      "outputs": []
    }
  ]
}